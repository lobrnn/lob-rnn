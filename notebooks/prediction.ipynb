{
 "cells": [
  {
   "cell_type": "code",
   "execution_count": 1,
   "metadata": {},
   "outputs": [],
   "source": [
    "import os\n",
    "import sys\n",
    "p = os.path.abspath('..')\n",
    "if p not in sys.path:\n",
    "    sys.path.append(p)\n",
    "from src.table_utils import make_table\n",
    "import numpy as np\n",
    "import pandas as pd\n",
    "import pickle\n",
    "from sklearn.metrics import accuracy_score, precision_score, recall_score, f1_score"
   ]
  },
  {
   "cell_type": "code",
   "execution_count": 2,
   "metadata": {},
   "outputs": [],
   "source": [
    "def get_results(data_type, timestamps):\n",
    "    num_data = len(timestamps)\n",
    "    data_dict_list = []\n",
    "    for timestamp in timestamps:\n",
    "        data_dict_list.append(pickle.load( open( \"../data/midprice_prediction_{}_{}.pkl\".format(data_type, timestamp), \"rb\" ) ))\n",
    "        \n",
    "    columns_overall = (\"Accuracy\", \"Macro F1\", \"Macro Precision\", \"Macro Recall\")\n",
    "    funs_overall = (accuracy_score, lambda yt, yp: f1_score(yt, yp, average=\"macro\"), lambda yt, yp: precision_score(yt, yp, average=\"macro\"), lambda yt, yp: recall_score(yt, yp, average=\"macro\"))\n",
    "    df = pd.DataFrame(columns=(\"Score\", \"RNN model\", \"DeepLOB\"))\n",
    "    idx = 0\n",
    "    for i in range(num_data):\n",
    "        true_labels = data_dict_list[i][\"test_labels\"].argmax(axis=-1)\n",
    "        alpha = data_dict_list[i][\"alpha\"]\n",
    "        lt_rnn = data_dict_list[i][\"simulation_prediction\"]\n",
    "        rnn_labels = np.where(np.mean(lt_rnn, axis=-1) > alpha, 1, 0)\n",
    "        rnn_labels = np.where(np.mean(lt_rnn, axis=-1) < -alpha, -1, rnn_labels)\n",
    "        rnn_labels = rnn_labels + 1\n",
    "        deeplob_labels = data_dict_list[i][\"deeplob_test_prediction\"].argmax(axis=-1)\n",
    "        for k, fun in zip(columns_overall, funs_overall):\n",
    "            rnn_score = fun(true_labels, rnn_labels)\n",
    "            deeplob_score = fun(true_labels, deeplob_labels)\n",
    "            df.loc[idx] = [k, rnn_score, deeplob_score]\n",
    "            idx += 1\n",
    "            \n",
    "    table_filename = f\"table_prediction_{data_type}.tex\"\n",
    "    grouped, code = make_table(df,\n",
    "                         [\"Score\"],\n",
    "                         [\"RNN model\", \"DeepLOB\"],\n",
    "                         highorlow=\"high\"\n",
    "                         )\n",
    "    with open(table_filename, \"w\") as fp:\n",
    "        fp.write(code)\n",
    "    return df, grouped, code"
   ]
  },
  {
   "cell_type": "code",
   "execution_count": 3,
   "metadata": {},
   "outputs": [
    {
     "name": "stdout",
     "output_type": "stream",
     "text": [
      "{'Accuracy': (0.6292775607205151, True), 'Macro F1': (0.6365928567131176, True), 'Macro Precision': (0.6517356634768209, True), 'Macro Recall': (0.6298632613434902, True)}\n"
     ]
    }
   ],
   "source": [
    "data_type = \"nasdaq\"\n",
    "timestamps = [\"2022_06_01_18_01\", \"2022_06_03_18_12_30\", \"2022_06_03_18_12_43\", \"2022_06_03_18_12_47\", \"2022_06_03_18_13_39\"]\n",
    "df, grouped, code = get_results(data_type, timestamps)"
   ]
  },
  {
   "cell_type": "code",
   "execution_count": 4,
   "metadata": {},
   "outputs": [
    {
     "data": {
      "text/html": [
       "<div>\n",
       "<style scoped>\n",
       "    .dataframe tbody tr th:only-of-type {\n",
       "        vertical-align: middle;\n",
       "    }\n",
       "\n",
       "    .dataframe tbody tr th {\n",
       "        vertical-align: top;\n",
       "    }\n",
       "\n",
       "    .dataframe thead tr th {\n",
       "        text-align: left;\n",
       "    }\n",
       "\n",
       "    .dataframe thead tr:last-of-type th {\n",
       "        text-align: right;\n",
       "    }\n",
       "</style>\n",
       "<table border=\"1\" class=\"dataframe\">\n",
       "  <thead>\n",
       "    <tr>\n",
       "      <th></th>\n",
       "      <th colspan=\"2\" halign=\"left\">RNN model</th>\n",
       "      <th colspan=\"2\" halign=\"left\">DeepLOB</th>\n",
       "    </tr>\n",
       "    <tr>\n",
       "      <th></th>\n",
       "      <th>mean</th>\n",
       "      <th>std</th>\n",
       "      <th>mean</th>\n",
       "      <th>std</th>\n",
       "    </tr>\n",
       "    <tr>\n",
       "      <th>Score</th>\n",
       "      <th></th>\n",
       "      <th></th>\n",
       "      <th></th>\n",
       "      <th></th>\n",
       "    </tr>\n",
       "  </thead>\n",
       "  <tbody>\n",
       "    <tr>\n",
       "      <th>Accuracy</th>\n",
       "      <td>0.636740</td>\n",
       "      <td>0.007462</td>\n",
       "      <td>0.630980</td>\n",
       "      <td>0.004944</td>\n",
       "    </tr>\n",
       "    <tr>\n",
       "      <th>Macro F1</th>\n",
       "      <td>0.643783</td>\n",
       "      <td>0.007190</td>\n",
       "      <td>0.631821</td>\n",
       "      <td>0.005528</td>\n",
       "    </tr>\n",
       "    <tr>\n",
       "      <th>Macro Precision</th>\n",
       "      <td>0.659907</td>\n",
       "      <td>0.008171</td>\n",
       "      <td>0.633901</td>\n",
       "      <td>0.007027</td>\n",
       "    </tr>\n",
       "    <tr>\n",
       "      <th>Macro Recall</th>\n",
       "      <td>0.637216</td>\n",
       "      <td>0.007353</td>\n",
       "      <td>0.631193</td>\n",
       "      <td>0.004569</td>\n",
       "    </tr>\n",
       "  </tbody>\n",
       "</table>\n",
       "</div>"
      ],
      "text/plain": [
       "                RNN model             DeepLOB          \n",
       "                     mean       std      mean       std\n",
       "Score                                                  \n",
       "Accuracy         0.636740  0.007462  0.630980  0.004944\n",
       "Macro F1         0.643783  0.007190  0.631821  0.005528\n",
       "Macro Precision  0.659907  0.008171  0.633901  0.007027\n",
       "Macro Recall     0.637216  0.007353  0.631193  0.004569"
      ]
     },
     "execution_count": 4,
     "metadata": {},
     "output_type": "execute_result"
    }
   ],
   "source": [
    "grouped"
   ]
  },
  {
   "cell_type": "code",
   "execution_count": 5,
   "metadata": {},
   "outputs": [
    {
     "name": "stdout",
     "output_type": "stream",
     "text": [
      "{'Accuracy': (0.6467107234120291, True), 'Macro F1': (0.6468589595793838, True), 'Macro Precision': (0.6541014857203205, True), 'Macro Recall': (0.6458289182083513, True)}\n"
     ]
    }
   ],
   "source": [
    "data_type = \"mc\"\n",
    "timestamps = [\"2022_06_01_18_01\", \"2022_06_03_18_12_23\", \"2022_06_03_18_13_21\", \"2022_06_03_18_13_24\", \"2022_06_03_18_13_34\"]\n",
    "df, grouped, code = get_results(data_type, timestamps)"
   ]
  },
  {
   "cell_type": "code",
   "execution_count": 6,
   "metadata": {},
   "outputs": [
    {
     "data": {
      "text/html": [
       "<div>\n",
       "<style scoped>\n",
       "    .dataframe tbody tr th:only-of-type {\n",
       "        vertical-align: middle;\n",
       "    }\n",
       "\n",
       "    .dataframe tbody tr th {\n",
       "        vertical-align: top;\n",
       "    }\n",
       "\n",
       "    .dataframe thead tr th {\n",
       "        text-align: left;\n",
       "    }\n",
       "\n",
       "    .dataframe thead tr:last-of-type th {\n",
       "        text-align: right;\n",
       "    }\n",
       "</style>\n",
       "<table border=\"1\" class=\"dataframe\">\n",
       "  <thead>\n",
       "    <tr>\n",
       "      <th></th>\n",
       "      <th colspan=\"2\" halign=\"left\">RNN model</th>\n",
       "      <th colspan=\"2\" halign=\"left\">DeepLOB</th>\n",
       "    </tr>\n",
       "    <tr>\n",
       "      <th></th>\n",
       "      <th>mean</th>\n",
       "      <th>std</th>\n",
       "      <th>mean</th>\n",
       "      <th>std</th>\n",
       "    </tr>\n",
       "    <tr>\n",
       "      <th>Score</th>\n",
       "      <th></th>\n",
       "      <th></th>\n",
       "      <th></th>\n",
       "      <th></th>\n",
       "    </tr>\n",
       "  </thead>\n",
       "  <tbody>\n",
       "    <tr>\n",
       "      <th>Accuracy</th>\n",
       "      <td>0.615620</td>\n",
       "      <td>0.002109</td>\n",
       "      <td>0.653000</td>\n",
       "      <td>0.006289</td>\n",
       "    </tr>\n",
       "    <tr>\n",
       "      <th>Macro F1</th>\n",
       "      <td>0.618510</td>\n",
       "      <td>0.002072</td>\n",
       "      <td>0.653370</td>\n",
       "      <td>0.006511</td>\n",
       "    </tr>\n",
       "    <tr>\n",
       "      <th>Macro Precision</th>\n",
       "      <td>0.622900</td>\n",
       "      <td>0.002986</td>\n",
       "      <td>0.659966</td>\n",
       "      <td>0.005864</td>\n",
       "    </tr>\n",
       "    <tr>\n",
       "      <th>Macro Recall</th>\n",
       "      <td>0.616212</td>\n",
       "      <td>0.001823</td>\n",
       "      <td>0.652287</td>\n",
       "      <td>0.006458</td>\n",
       "    </tr>\n",
       "  </tbody>\n",
       "</table>\n",
       "</div>"
      ],
      "text/plain": [
       "                RNN model             DeepLOB          \n",
       "                     mean       std      mean       std\n",
       "Score                                                  \n",
       "Accuracy         0.615620  0.002109  0.653000  0.006289\n",
       "Macro F1         0.618510  0.002072  0.653370  0.006511\n",
       "Macro Precision  0.622900  0.002986  0.659966  0.005864\n",
       "Macro Recall     0.616212  0.001823  0.652287  0.006458"
      ]
     },
     "execution_count": 6,
     "metadata": {},
     "output_type": "execute_result"
    }
   ],
   "source": [
    "grouped"
   ]
  }
 ],
 "metadata": {
  "kernelspec": {
   "display_name": "Python 3",
   "language": "python",
   "name": "python3"
  },
  "language_info": {
   "codemirror_mode": {
    "name": "ipython",
    "version": 3
   },
   "file_extension": ".py",
   "mimetype": "text/x-python",
   "name": "python",
   "nbconvert_exporter": "python",
   "pygments_lexer": "ipython3",
   "version": "3.8.3"
  }
 },
 "nbformat": 4,
 "nbformat_minor": 4
}
